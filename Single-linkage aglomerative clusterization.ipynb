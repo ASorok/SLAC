{
 "cells": [
  {
   "cell_type": "code",
   "execution_count": 1,
   "metadata": {},
   "outputs": [
    {
     "name": "stdout",
     "output_type": "stream",
     "text": [
      "Populating the interactive namespace from numpy and matplotlib\n"
     ]
    }
   ],
   "source": [
    "import time\n",
    "import pandas as pd\n",
    "import pylab as pl\n",
    "import numpy as np\n",
    "import scipy.spatial as ss\n",
    "import sklearn.cluster as sc\n",
    "import sklearn.manifold as sm\n",
    "import sklearn.datasets as ds\n",
    "import sklearn.metrics as smt\n",
    "from sklearn.mixture import GaussianMixture\n",
    "from sklearn.cluster import AgglomerativeClustering\n",
    "from scipy.spatial import distance\n",
    "import pymorphy2\n",
    "\n",
    "import matplotlib.pyplot as plt\n",
    "\n",
    "%matplotlib inline\n",
    "\n",
    "plt.style.use('ggplot')\n",
    "plt.rcParams['figure.figsize'] = (12,5)\n",
    "\n",
    "# Plotting config\n",
    "%pylab inline"
   ]
  },
  {
   "cell_type": "markdown",
   "metadata": {},
   "source": [
    "## Задание"
   ]
  },
  {
   "cell_type": "markdown",
   "metadata": {},
   "source": [
    "Реализуйте максимально эффективным образом алгоритм иерархической кластеризации с алгоритмом объединения single-link clustering для точек, расположенных на прямой. Опишите алгоритм, а также найдите пример, когда подобный алгоритм показывает «плохие» результаты."
   ]
  },
  {
   "cell_type": "markdown",
   "metadata": {},
   "source": [
    "## Агломеративная кластеризация"
   ]
  },
  {
   "cell_type": "markdown",
   "metadata": {},
   "source": [
    "Иерархические алгоритмы кластеризации строят на выборке систему вложенных разбиений. Наиболее часто испоьзуемые иерархические алгоритмы - агломеративные алгоритмы, которые строят ирархию по восходящей, то есть от момента, когда все элементы являются отдельными кластерами, до того момента, пока вся выборка не станет одним кластером."
   ]
  },
  {
   "cell_type": "markdown",
   "metadata": {},
   "source": [
    "Сам алгоритм описать можно примерно так:\n",
    "\n",
    "* начинаем с ситуации, когда каждый объект - отдельный кластер\n",
    "* на каждом шаге совмещаем два наиболее близких кластера\n",
    "* останавливаемся, когда получаем требуемое количество или единственный кластер"
   ]
  },
  {
   "cell_type": "markdown",
   "metadata": {},
   "source": [
    "* Single linkage\n",
    "$$ d_{min}(C_i, C_j) = \\min_{\\mathbf{x} \\in C_i, \\mathbf{x}' \\in C_j} \\|\\mathbf{x} -\\mathbf{x}' \\| $$"
   ]
  },
  {
   "cell_type": "markdown",
   "metadata": {},
   "source": [
    "Для того, чтобы на втором этапе нам не пересчитывать заново расстояния между всеми парами кластеров, можно использовать Формулы Ланса-Вильямса, которые позволяют посчитать расстояние между кластерами после объединения, используя только расстояния между кластерами до объедения.  Таким образом, достаточно будет посчитать расстояния только между всеми одноэлементными кластерами (первый этап), а затем пересчитывать расстояния при их объединении через \n",
    "формулы Ланса-Вильямса. \n",
    "\n",
    "Общая  формула выглядит так:\n",
    "$$ d(C_i \\cup C_j, C_k) = \\frac{1}{2} \\cdot d(C_i, C_k) + \\frac{1}{2} \\cdot d(C_j, C_k) - \\frac{1}{2} \\cdot |d(C_i, C_k) - d(C_j, C_k)|$$\n",
    "\n",
    "Можно показать, что все относительно разумные кластерные расстояния можно описать данной формулой. "
   ]
  },
  {
   "cell_type": "code",
   "execution_count": 2,
   "metadata": {},
   "outputs": [],
   "source": [
    "from sklearn.base import BaseEstimator, ClusterMixin\n",
    "import scipy.cluster.hierarchy as sch\n",
    "from copy import deepcopy\n",
    "\n",
    "class Clustering(BaseEstimator, ClusterMixin):\n",
    "    \n",
    "    def __init__(self,n_clusters=2, **kwargs):\n",
    "\n",
    "        self.n_clusters = n_clusters\n",
    "        self.a_i = 1/2\n",
    "        self.a_j = 1/2\n",
    "        self.c = -1/2\n",
    "\n",
    "        return\n",
    "        \n",
    "    def fit_predict(self, x):\n",
    "        #матрица расстояний\n",
    "        dist_matrix = np.ones((len(x), len(x)))\n",
    "        for i in range(len(x)):\n",
    "            for j in range(len(x)):\n",
    "                if i != j:\n",
    "                    dist_matrix[i][j] = abs(x[i] - x[j])\n",
    "                else:\n",
    "                    dist_matrix[i][j] = np.inf\n",
    "        #матрица связей\n",
    "        self.Z = []\n",
    "        self.n_steps = len(x)-1\n",
    "        self.clusts = [[i] for i in range(len(x))]\n",
    "        self.cl = deepcopy(self.clusts)\n",
    "        \n",
    "        for i in range(self.n_steps):\n",
    "            if i == len(x) - self.n_clusters:\n",
    "                #нужное разбиение\n",
    "                self.clusters = deepcopy(self.clusts)\n",
    "            \n",
    "            ind = np.unravel_index(np.argmin(dist_matrix), dist_matrix.shape)\n",
    "            \n",
    "            C_i,C_j = self.clusts[ind[0]],self.clusts[ind[1]]\n",
    "            C_ij = C_i + C_j\n",
    "            self.clusts.remove(C_i)\n",
    "            self.clusts.remove(C_j)\n",
    "            self.clusts.append(C_ij)\n",
    "            self.cl.append(C_ij)\n",
    "            \n",
    "            self.Z.append([self.cl.index(C_i), self.cl.index(C_j), dist_matrix[ind[0],ind[1]], len(C_i)+len(C_j)])\n",
    "            \n",
    "            new_dist0 = np.ones(dist_matrix.shape[0])\n",
    "            new_dist1 = np.ones(dist_matrix.shape[0]+1)\n",
    "            for k in range(dist_matrix.shape[0]):\n",
    "                new_dist0[k] = new_dist1[k] = self.a_i*dist_matrix[ind[0],k]+self.a_j*dist_matrix[ind[1],k]+\\\n",
    "                                                        self.c*abs(dist_matrix[ind[0],k]-dist_matrix[ind[1],k])\n",
    "                if k in ind:\n",
    "                    new_dist0[k] = new_dist1[k] = np.inf\n",
    "            \n",
    "            new_dist1[dist_matrix.shape[0]] = np.inf\n",
    "            new_dist0 = np.expand_dims(new_dist0, axis=1)\n",
    "            dist_matrix = np.concatenate((dist_matrix, new_dist0), 1)\n",
    "            new_dist1 = np.expand_dims(new_dist1, axis=0)\n",
    "            dist_matrix = np.concatenate((dist_matrix, new_dist1), 0)\n",
    "            dist_matrix = np.delete(dist_matrix,(ind[0],ind[1]), 0)\n",
    "            dist_matrix = np.delete(dist_matrix,(ind[0],ind[1]), 1)\n",
    "            \n",
    "        self.Z = np.array(self.Z, dtype='float64')\n",
    "        clusters_labels = np.ones(len(x), dtype=int)\n",
    "        \n",
    "        for cluster_number, number in enumerate(self.clusters):\n",
    "            clusters_labels[number] = cluster_number\n",
    "        return clusters_labels\n",
    "    \n",
    "    def plot_dendrogram(self):\n",
    "        plt.figure(figsize=(20, 10))\n",
    "        sch.dendrogram(self.Z)\n"
   ]
  },
  {
   "cell_type": "markdown",
   "metadata": {},
   "source": [
    "# Пример работы на хороших данных"
   ]
  },
  {
   "cell_type": "code",
   "execution_count": 3,
   "metadata": {},
   "outputs": [],
   "source": [
    "x = np.array([0, 1, 2, 3, 4, 5, 25, 26, 30])\n",
    "y = np.array([0, 0, 0, 0, 0, 0, 1, 1, 1])"
   ]
  },
  {
   "cell_type": "code",
   "execution_count": 4,
   "metadata": {},
   "outputs": [
    {
     "name": "stdout",
     "output_type": "stream",
     "text": [
      "Our AGGL score 1.0. Our AGGL time 0.01699066162109375\n"
     ]
    },
    {
     "name": "stderr",
     "output_type": "stream",
     "text": [
      "C:\\Users\\USER\\Anaconda3\\lib\\site-packages\\ipykernel_launcher.py:51: RuntimeWarning: invalid value encountered in double_scalars\n"
     ]
    },
    {
     "data": {
      "image/png": "[encoded data removed]",
      "text/plain": [
       "<Figure size 1440x720 with 1 Axes>"
      ]
     },
     "metadata": {
      "needs_background": "light"
     },
     "output_type": "display_data"
    }
   ],
   "source": [
    "#кастомная реализация\n",
    "сustum_aggl = Clustering()\n",
    "aggl_t0 = time.time()\n",
    "aggl_pred = сustum_aggl.fit_predict(x.reshape(-1, 1))\n",
    "aggl_diff = time.time() - aggl_t0\n",
    "aggl_score = smt.adjusted_rand_score(y, aggl_pred)\n",
    "print (\"Our AGGL score {}. Our AGGL time {}\".format(aggl_score, aggl_diff))\n",
    "сustum_aggl.plot_dendrogram()"
   ]
  },
  {
   "cell_type": "markdown",
   "metadata": {},
   "source": [
    "Результаты"
   ]
  },
  {
   "cell_type": "code",
   "execution_count": 5,
   "metadata": {},
   "outputs": [
    {
     "data": {
      "image/png": "[encoded data removed]",
      "text/plain": [
       "<Figure size 432x288 with 1 Axes>"
      ]
     },
     "metadata": {
      "needs_background": "light"
     },
     "output_type": "display_data"
    }
   ],
   "source": [
    "pl.scatter(x, [0]*len(x), c = aggl_pred)\n",
    "pl.show()"
   ]
  },
  {
   "cell_type": "code",
   "execution_count": 6,
   "metadata": {},
   "outputs": [
    {
     "data": {
      "image/png": "[encoded data removed]",
      "text/plain": [
       "<Figure size 432x288 with 1 Axes>"
      ]
     },
     "metadata": {
      "needs_background": "light"
     },
     "output_type": "display_data"
    }
   ],
   "source": [
    "pl.scatter(x, [0]*len(x), c = y)\n",
    "pl.show()"
   ]
  },
  {
   "cell_type": "markdown",
   "metadata": {},
   "source": [
    "# Плохой пример"
   ]
  },
  {
   "cell_type": "markdown",
   "metadata": {},
   "source": [
    "Недостаток этого метода состоит в том, что он имеет тенденцию создавать длинные кластеры, в которых соседние элементы одного кластера имеют небольшие расстояния, но элементы на противоположных концах кластера могут быть достаточно далеко. Это может привести к трудностям при определении классов, когда в один \"большой\" класс содеиняются два визуально отличимых кластера."
   ]
  },
  {
   "cell_type": "code",
   "execution_count": 7,
   "metadata": {},
   "outputs": [],
   "source": [
    "x = np.array([28, 0, 2, 5, 11, 9, 23, 30, 1])\n",
    "y = np.array([2, 0, 0, 0, 1, 1, 2, 2, 0])"
   ]
  },
  {
   "cell_type": "markdown",
   "metadata": {},
   "source": [
    "Примерная кратинка визуального разбиения"
   ]
  },
  {
   "cell_type": "code",
   "execution_count": 8,
   "metadata": {
    "scrolled": true
   },
   "outputs": [
    {
     "data": {
      "image/png": "[encoded data removed]",
      "text/plain": [
       "<Figure size 432x288 with 1 Axes>"
      ]
     },
     "metadata": {
      "needs_background": "light"
     },
     "output_type": "display_data"
    }
   ],
   "source": [
    "pl.scatter(x, [0]*len(x), c=y)\n",
    "pl.show()"
   ]
  },
  {
   "cell_type": "code",
   "execution_count": 9,
   "metadata": {},
   "outputs": [
    {
     "name": "stderr",
     "output_type": "stream",
     "text": [
      "C:\\Users\\USER\\Anaconda3\\lib\\site-packages\\ipykernel_launcher.py:51: RuntimeWarning: invalid value encountered in double_scalars\n"
     ]
    },
    {
     "name": "stdout",
     "output_type": "stream",
     "text": [
      "AGGL score 0.41558441558441556. AGGL time 0.003998994827270508\n"
     ]
    },
    {
     "data": {
      "image/png": "[encoded data removed]",
      "text/plain": [
       "<Figure size 1440x720 with 1 Axes>"
      ]
     },
     "metadata": {
      "needs_background": "light"
     },
     "output_type": "display_data"
    }
   ],
   "source": [
    "#кастомная реализация\n",
    "сustum_aggl = Clustering(3)\n",
    "aggl_t0 = time.time()\n",
    "aggl_pred = сustum_aggl.fit_predict(x.reshape(-1, 1))\n",
    "aggl_diff = time.time() - aggl_t0\n",
    "aggl_score = smt.adjusted_rand_score(y, aggl_pred)\n",
    "print (\"AGGL score {}. AGGL time {}\".format(aggl_score, aggl_diff))\n",
    "сustum_aggl.plot_dendrogram()"
   ]
  },
  {
   "cell_type": "markdown",
   "metadata": {},
   "source": [
    "Результаты кластеризации: видно, что первый кластер \"слишком\" длинный"
   ]
  },
  {
   "cell_type": "code",
   "execution_count": 10,
   "metadata": {},
   "outputs": [
    {
     "data": {
      "image/png": "[encoded data removed]",
      "text/plain": [
       "<Figure size 432x288 with 1 Axes>"
      ]
     },
     "metadata": {
      "needs_background": "light"
     },
     "output_type": "display_data"
    }
   ],
   "source": [
    "pl.scatter(x, [0]*len(x), c = aggl_pred)\n",
    "pl.show()"
   ]
  },
  {
   "cell_type": "markdown",
   "metadata": {},
   "source": [
    "Реальное разбиение"
   ]
  },
  {
   "cell_type": "code",
   "execution_count": 11,
   "metadata": {},
   "outputs": [
    {
     "data": {
      "image/png": "[encoded data removed]",
      "text/plain": [
       "<Figure size 432x288 with 1 Axes>"
      ]
     },
     "metadata": {
      "needs_background": "light"
     },
     "output_type": "display_data"
    }
   ],
   "source": [
    "pl.scatter(x, [0]*len(x), c = y)\n",
    "pl.show()"
   ]
  }
 ],
 "metadata": {
  "kernelspec": {
   "display_name": "Python 3",
   "language": "python",
   "name": "python3"
  },
  "language_info": {
   "codemirror_mode": {
    "name": "ipython",
    "version": 3
   },
   "file_extension": ".py",
   "mimetype": "text/x-python",
   "name": "python",
   "nbconvert_exporter": "python",
   "pygments_lexer": "ipython3",
   "version": "3.6.7"
  }
 },
 "nbformat": 4,
 "nbformat_minor": 2
}
